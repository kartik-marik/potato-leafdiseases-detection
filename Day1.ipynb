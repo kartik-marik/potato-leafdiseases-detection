{
  "nbformat": 4,
  "nbformat_minor": 0,
  "metadata": {
    "colab": {
      "provenance": [],
      "authorship_tag": "ABX9TyOQbMwYks+0tyasrJVGHRu+",
      "include_colab_link": true
    },
    "kernelspec": {
      "name": "python3",
      "display_name": "Python 3"
    },
    "language_info": {
      "name": "python"
    }
  },
  "cells": [
    {
      "cell_type": "markdown",
      "metadata": {
        "id": "view-in-github",
        "colab_type": "text"
      },
      "source": [
        "<a href=\"https://colab.research.google.com/github/kartik-marik/potato-leafdiseases-detection/blob/main/Day1.ipynb\" target=\"_parent\"><img src=\"https://colab.research.google.com/assets/colab-badge.svg\" alt=\"Open In Colab\"/></a>"
      ]
    },
    {
      "cell_type": "markdown",
      "source": [
        "**Problem Statement**\n",
        "\n",
        "\n",
        "*   Farmers who grow potatoes are facing lot of economic losses every year because of various diseases that can happen to a potato plant.\n",
        "*   There are two common diseases known as early blight and late blight.early blight is caused by fungus and late blight is caused by a specific micro-organism.\n",
        "*   so if a farmer can detect these diseases early and apply appropriate treatment then it can save lot of waste and prevent the economic loss.\n",
        "*   the treatment for early blight and late blight are little different so its  important  to identify accuratey  what type of diseases it is.\n",
        "\n",
        "\n",
        "\n",
        "\n",
        "**Possible solutions**\n",
        "\n",
        "*   Data Collections\n",
        "*   Data Building and preprocessing(data augmentation + TF dataset)\n",
        "*   Model Building(Training Model)(CNN)\n",
        "*   Model optimization\n",
        "*   Testing\n",
        "*   Deployment\n",
        "\n",
        "\n",
        "**Technology Used for Model Building**\n",
        "\n",
        "\n",
        "*   Goggle colab\n",
        "*   CNN(Convolutional Neural Network)\n",
        "*   Data Augmentation\n",
        "*   Tf DataSet\n",
        "\n",
        "**Technology used for Backened server**\n",
        "\n",
        "\n",
        "*   TF Serving\n",
        "*   API(FastAPI)\n",
        "\n",
        "**Technology used for model optimization**\n",
        "\n",
        "\n",
        "*   Quantization\n",
        "\n",
        "\n",
        "\n",
        "**Frontend and deployment**\n",
        "\n",
        "\n",
        "*   Reactjs and Deployment to GCP\n",
        "\n"
      ],
      "metadata": {
        "id": "Ko-n6npM34fY"
      }
    }
  ]
}
