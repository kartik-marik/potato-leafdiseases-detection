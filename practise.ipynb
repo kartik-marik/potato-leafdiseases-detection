{
  "nbformat": 4,
  "nbformat_minor": 0,
  "metadata": {
    "colab": {
      "provenance": [],
      "authorship_tag": "ABX9TyMDzOgRpae5iVwmj6IOyyP8",
      "include_colab_link": true
    },
    "kernelspec": {
      "name": "python3",
      "display_name": "Python 3"
    },
    "language_info": {
      "name": "python"
    }
  },
  "cells": [
    {
      "cell_type": "markdown",
      "metadata": {
        "id": "view-in-github",
        "colab_type": "text"
      },
      "source": [
        "<a href=\"https://colab.research.google.com/github/kartik-marik/potato-leafdiseases-detection/blob/main/practise.ipynb\" target=\"_parent\"><img src=\"https://colab.research.google.com/assets/colab-badge.svg\" alt=\"Open In Colab\"/></a>"
      ]
    },
    {
      "cell_type": "markdown",
      "source": [
        "**Problem Statement**\n",
        "Farmers who grow potatoes are facing lot of economic losses every year because of various diseases that can happen to a potato plant.\n",
        "\n",
        "There are two common diseases known as early blight and late blight.early blight is caused by fungus and late blight is caused by a specific micro-organism.\n",
        "\n",
        "so if a farmer can detect these diseases early and apply appropriate treatment then it can save lot of waste and prevent the economic loss.\n",
        "\n",
        "the treatment for early blight and late blight are little different so its  important  to identify accuratey  what type of diseases it is.\n",
        "\n",
        "**Possible solutions**\n",
        "1.Data Collections\n",
        "\n",
        "*   List itemfdsnn\n",
        "*   List itemx cx\n",
        "\n",
        "\n",
        "1.   List item\n",
        "\n",
        "*   List item\n",
        "*   List itemdbng\n",
        "\n",
        "\n",
        "2.   List item\n",
        "\n",
        "\n",
        "\n",
        "\n",
        "2.data cleaning and preprocessing\n",
        "3.Model Building to create training model\n",
        "4.Model optimization\n",
        "4.Testing----------->serving for new test case\n",
        "5.web app development(optional)\n",
        "\n",
        "**Technology Used for Model Building**\n",
        "1.>Goggle Colab\n",
        "2.>Cnn(convolutional neural network)\n",
        "3.>data augmentation\n",
        "4.>tf dataset\n",
        "\n",
        "**Technology used for Backened server**\n",
        "1.tf serving\n",
        "2.FastAPI\n",
        "\n",
        "**Technology used for model optimization**\n",
        "1.>Quantization\n",
        "\n",
        "**Frontend and deployment**\n",
        "1>reactjs and deployment to GCP"
      ],
      "metadata": {
        "id": "Ko-n6npM34fY"
      }
    }
  ]
}